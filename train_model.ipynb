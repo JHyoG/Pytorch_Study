{
 "cells": [
  {
   "cell_type": "markdown",
   "id": "07dc5819",
   "metadata": {},
   "source": [
    "#### 간단한 인공신경망 만들기"
   ]
  },
  {
   "cell_type": "code",
   "execution_count": 7,
   "id": "33a6a721",
   "metadata": {},
   "outputs": [
    {
     "name": "stdout",
     "output_type": "stream",
     "text": [
      "Parameter containing:\n",
      "tensor([[0.1522]], requires_grad=True)\n",
      "Parameter containing:\n",
      "tensor([-0.3568], requires_grad=True)\n",
      "tensor([-0.2047], grad_fn=<AddBackward0>)\n",
      "tensor([-0.2047], grad_fn=<ViewBackward0>)\n"
     ]
    }
   ],
   "source": [
    "import torch\n",
    "from torch import nn\n",
    "\n",
    "x = torch.tensor([1.])\n",
    "model = nn.Linear(1,1)\n",
    "\n",
    "print(model.weight)\n",
    "print(model.bias) \n",
    "print(x@model.weight + model.bias)\n",
    "print(model(x))"
   ]
  },
  {
   "cell_type": "code",
   "execution_count": null,
   "id": "b15f15e2",
   "metadata": {},
   "outputs": [
    {
     "name": "stdout",
     "output_type": "stream",
     "text": [
      "tensor([-0.4676], grad_fn=<ViewBackward0>)\n"
     ]
    }
   ],
   "source": [
    "fc1 = nn.Linear(1,3) \n",
    "fc2 = nn.Linear(3,1)\n",
    "model = nn.Sequential(fc1,fc2)\n",
    "\n",
    "\n",
    "x = torch.tensor([1.])\n",
    "print(model(x))"
   ]
  },
  {
   "cell_type": "code",
   "execution_count": 12,
   "id": "66bda66b",
   "metadata": {},
   "outputs": [
    {
     "name": "stdout",
     "output_type": "stream",
     "text": [
      "tensor([[-0.2804,  0.1510,  0.5917],\n",
      "        [ 0.1086,  0.0501, -0.0817],\n",
      "        [ 0.1466,  0.3324,  0.4366],\n",
      "        [ 0.2266, -0.2171, -0.7592],\n",
      "        [-0.1399,  0.1898,  0.4988],\n",
      "        [ 0.4044,  0.1703, -0.2000],\n",
      "        [-0.1794,  0.1248,  0.4168],\n",
      "        [ 0.2779, -0.0052, -0.3976],\n",
      "        [-0.0360,  0.0600,  0.1134],\n",
      "        [ 0.2736,  0.0912, -0.1996]], grad_fn=<AddmmBackward0>) torch.Size([10, 3])\n"
     ]
    }
   ],
   "source": [
    "model = nn.Sequential(nn.Linear(2,5),\n",
    "                      nn.Linear(5,10),\n",
    "                      nn.Linear(10,3))\n",
    "\n",
    "x = torch.randn(10,2)\n",
    "print(model(x),model(x).shape)"
   ]
  },
  {
   "cell_type": "code",
   "execution_count": null,
   "id": "b550ea73",
   "metadata": {},
   "outputs": [
    {
     "name": "stdout",
     "output_type": "stream",
     "text": [
      "Mymodel(\n",
      "  (linear): Sequential(\n",
      "    (0): Linear(in_features=2, out_features=5, bias=True)\n",
      "    (1): Sigmoid()\n",
      "    (2): Linear(in_features=5, out_features=10, bias=True)\n",
      "    (3): Sigmoid()\n",
      "    (4): Linear(in_features=10, out_features=3, bias=True)\n",
      "    (5): Sigmoid()\n",
      "  )\n",
      ")\n"
     ]
    }
   ],
   "source": [
    "class Mymodel(nn.Module):\n",
    "    def __init__(self):\n",
    "        super().__init__()\n",
    "        self.linear = nn.Sequential(nn.Linear(2,5),\n",
    "                                    nn.Sigmoid(),\n",
    "                                    nn.Linear(5,10),\n",
    "                                    nn.Sigmoid(),\n",
    "                                    nn.Linear(10,3),\n",
    "                                    nn.Sigmoid())\n",
    "    def forward(self,x):\n",
    "        return self.linear(x)\n",
    "        \n",
    "\n",
    "x = torch.randn(10,2)\n",
    "model = Mymodel()\n",
    "print(model)\n",
    "# print(model(x),model(x).shape)\n",
    "\n",
    "# print(model.linear[0].weight) # Sequential은 인덱싱으로 접근\n",
    "# print(model.linear[0].bias)"
   ]
  },
  {
   "cell_type": "code",
   "execution_count": 30,
   "id": "cd82c8c0",
   "metadata": {},
   "outputs": [
    {
     "data": {
      "text/plain": [
       "[Parameter containing:\n",
       " tensor([[-0.4893, -0.0060],\n",
       "         [ 0.2623, -0.5406],\n",
       "         [ 0.3057, -0.3842],\n",
       "         [ 0.4652,  0.1766],\n",
       "         [ 0.3615,  0.6504]], requires_grad=True),\n",
       " Parameter containing:\n",
       " tensor([ 0.4979, -0.0480,  0.2036, -0.1692,  0.4375], requires_grad=True),\n",
       " Parameter containing:\n",
       " tensor([[-0.2389,  0.3624,  0.1842, -0.0657,  0.2403],\n",
       "         [ 0.3750,  0.2970,  0.1061, -0.4301,  0.3442],\n",
       "         [-0.3870,  0.2788,  0.2080,  0.0941,  0.2372],\n",
       "         [ 0.1185, -0.3972,  0.1677,  0.4426,  0.0760],\n",
       "         [ 0.0115,  0.4408, -0.1549, -0.2690,  0.0954],\n",
       "         [ 0.3214,  0.1237,  0.0632,  0.1913, -0.3535],\n",
       "         [-0.3949,  0.3340,  0.3241,  0.2220,  0.2089],\n",
       "         [-0.4266,  0.1338,  0.3273, -0.4365,  0.3523],\n",
       "         [ 0.2283, -0.3646,  0.2730, -0.4307, -0.4219],\n",
       "         [ 0.3950,  0.1010, -0.3568,  0.3995,  0.1174]], requires_grad=True),\n",
       " Parameter containing:\n",
       " tensor([-0.2537, -0.2790,  0.3245,  0.1330, -0.1982,  0.4417, -0.4308,  0.0411,\n",
       "          0.3264, -0.1772], requires_grad=True),\n",
       " Parameter containing:\n",
       " tensor([[ 0.2411,  0.2160, -0.2040, -0.2496, -0.2503,  0.0010,  0.1747,  0.0732,\n",
       "          -0.2690,  0.2335],\n",
       "         [ 0.0933, -0.2573,  0.2167, -0.0915, -0.0456, -0.2177, -0.1789,  0.0614,\n",
       "          -0.2706,  0.1268],\n",
       "         [ 0.1716,  0.2375, -0.1571,  0.0235, -0.0964,  0.2016,  0.1713,  0.1898,\n",
       "          -0.2169, -0.0608]], requires_grad=True),\n",
       " Parameter containing:\n",
       " tensor([ 0.2024, -0.2145,  0.1453], requires_grad=True)]"
      ]
     },
     "execution_count": 30,
     "metadata": {},
     "output_type": "execute_result"
    }
   ],
   "source": [
    "# 모델의 파라미터 확인(모든 파라미터 나온다)\n",
    "list(model.parameters()) # model.parameters() -> generate 타입 -> list로 바꿔주기"
   ]
  },
  {
   "cell_type": "code",
   "execution_count": 31,
   "id": "45081889",
   "metadata": {},
   "outputs": [
    {
     "name": "stdout",
     "output_type": "stream",
     "text": [
      "108\n"
     ]
    }
   ],
   "source": [
    "# \"학습\" 파라미터 수 구하기\n",
    "num = sum([p.numel() for p in model.parameters() if p.requires_grad])\n",
    "print(num)"
   ]
  },
  {
   "cell_type": "code",
   "execution_count": null,
   "id": "6f42094a",
   "metadata": {},
   "outputs": [],
   "source": [
    "# weight initialize하는건 넘어감"
   ]
  },
  {
   "cell_type": "markdown",
   "id": "84036da3",
   "metadata": {},
   "source": [
    "#### binary classification"
   ]
  },
  {
   "cell_type": "code",
   "execution_count": null,
   "id": "9aaa7dd4",
   "metadata": {},
   "outputs": [],
   "source": [
    "# (2) 1:23부터보기"
   ]
  },
  {
   "cell_type": "code",
   "execution_count": null,
   "id": "e41bb5fc",
   "metadata": {},
   "outputs": [],
   "source": []
  }
 ],
 "metadata": {
  "kernelspec": {
   "display_name": "OpenTAD",
   "language": "python",
   "name": "python3"
  },
  "language_info": {
   "codemirror_mode": {
    "name": "ipython",
    "version": 3
   },
   "file_extension": ".py",
   "mimetype": "text/x-python",
   "name": "python",
   "nbconvert_exporter": "python",
   "pygments_lexer": "ipython3",
   "version": "3.8.20"
  }
 },
 "nbformat": 4,
 "nbformat_minor": 5
}
